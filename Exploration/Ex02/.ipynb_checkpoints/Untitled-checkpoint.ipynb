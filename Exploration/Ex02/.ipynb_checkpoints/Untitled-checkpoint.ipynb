{
 "cells": [
  {
   "cell_type": "code",
   "execution_count": 2,
   "id": "0888b699",
   "metadata": {},
   "outputs": [],
   "source": [
    "# 필요한 패키지 import 하기\n",
    "import os # 환경 변수나 디렉터리, 파일 등의 OS 자원을 제어할 수 있게 해주는 모듈\n",
    "import cv2 # OpenCV라이브러리 → 컴퓨터 비전 관련 프로그래밍을 쉽게 할 수 있도록 도와주는 라이브러리\n",
    "import matplotlib.pyplot as plt # 다양한 데이터를 많은 방법으로 도식화 할 수 있도록 하는 라이브러리\n",
    "import numpy as np # 다차원 배열을 쉽게 처리하고 효율적으로 사용할 수 있도록 하는 라이브러리\n",
    "import dlib # 이미지 처리 및 기계 학습, 얼굴인식 등을 할 수 있는 c++ 로 개발된 고성능의 라이브러리 "
   ]
  },
  {
   "cell_type": "code",
   "execution_count": 6,
   "id": "8f064d62",
   "metadata": {},
   "outputs": [],
   "source": [
    "my_image_path = os.getenv('HOME') + '/aiffel/camera_sticker/images/image.png' # 본인 이미지가 있는 경로를 가지고 온다.\n",
    "img_bgr = cv2.imread(my_image_path)    # OpenCV로 이미지를 불러옵니다"
   ]
  },
  {
   "cell_type": "code",
   "execution_count": 7,
   "id": "4939970c",
   "metadata": {},
   "outputs": [],
   "source": [
    "detector_hog = dlib.get_frontal_face_detector() # 기본 얼굴 감지기를 반환"
   ]
  },
  {
   "cell_type": "code",
   "execution_count": 8,
   "id": "447fa0d9",
   "metadata": {},
   "outputs": [],
   "source": [
    "img_rgb = cv2.cvtColor(img_bgr, cv2.COLOR_BGR2RGB)\n",
    "dlib_rects = detector_hog(img_rgb, 1)   # (image, num of image pyramid)"
   ]
  },
  {
   "cell_type": "code",
   "execution_count": 9,
   "id": "ba2ad1e7",
   "metadata": {},
   "outputs": [],
   "source": [
    "model_path = os.getenv('HOME') + '/aiffel/camera_sticker/models/shape_predictor_68_face_landmarks.dat'\n",
    "landmark_predictor = dlib.shape_predictor(model_path)"
   ]
  },
  {
   "cell_type": "code",
   "execution_count": null,
   "id": "679215fe",
   "metadata": {},
   "outputs": [],
   "source": []
  }
 ],
 "metadata": {
  "kernelspec": {
   "display_name": "Python 3 (ipykernel)",
   "language": "python",
   "name": "python3"
  },
  "language_info": {
   "codemirror_mode": {
    "name": "ipython",
    "version": 3
   },
   "file_extension": ".py",
   "mimetype": "text/x-python",
   "name": "python",
   "nbconvert_exporter": "python",
   "pygments_lexer": "ipython3",
   "version": "3.9.7"
  }
 },
 "nbformat": 4,
 "nbformat_minor": 5
}
